{
 "cells": [
  {
   "cell_type": "code",
   "execution_count": 1,
   "id": "9857a3f7-58cb-44b0-8808-039a15a0d25d",
   "metadata": {},
   "outputs": [],
   "source": [
    "import pandas as pd\n",
    "from IPython.display import IFrame"
   ]
  },
  {
   "cell_type": "code",
   "execution_count": 2,
   "id": "b59a6918-5a09-42a8-8d9b-d4a39fef1156",
   "metadata": {},
   "outputs": [],
   "source": [
    "# url = \"https://www.ncbi.nlm.nih.gov/Taxonomy/Browser/wwwtax.cgi?mode=Tree&id=2&lvl=3&srchmode=1&keep=1&unlock\"  # probably a more-official source, but I'm really not sure.\n",
    "url = \"https://lpsn.dsmz.de/archive/-classifphyla.html\""
   ]
  },
  {
   "cell_type": "code",
   "execution_count": 4,
   "id": "bcf18cd6-fe17-4fb7-af93-d62799d9b78d",
   "metadata": {},
   "outputs": [
    {
     "data": {
      "text/html": [
       "\n",
       "        <iframe\n",
       "            width=\"1200\"\n",
       "            height=\"400\"\n",
       "            src=\"https://lpsn.dsmz.de/archive/-classifphyla.html\"\n",
       "            frameborder=\"0\"\n",
       "            allowfullscreen\n",
       "        ></iframe>\n",
       "        "
      ],
      "text/plain": [
       "<IPython.lib.display.IFrame at 0x1dbae0be460>"
      ]
     },
     "execution_count": 4,
     "metadata": {},
     "output_type": "execute_result"
    }
   ],
   "source": [
    "IFrame(url, width=1200, height=400)"
   ]
  },
  {
   "cell_type": "code",
   "execution_count": 5,
   "id": "2f754e99-2a17-4aa5-bb1f-e86d400a9244",
   "metadata": {},
   "outputs": [],
   "source": [
    "import requests"
   ]
  },
  {
   "cell_type": "code",
   "execution_count": 6,
   "id": "64158a34-3d4e-411e-b106-b542efeb94d8",
   "metadata": {},
   "outputs": [
    {
     "name": "stdout",
     "output_type": "stream",
     "text": [
      "<!DOCTYPE HTML PUBLIC \"-//W3C//DTD HTML 4.01 Transitional//EN\"\n",
      "\"http://www.w3.org/TR/html4/loose.dtd\">\n",
      "<html>\n",
      "  <head>\n",
      "    <meta http-equiv=\"Content-Type\" content=\"text/html; charset=utf-8\">\n",
      "    <title>\n",
      "      Classification of bacteria - sponsored by Ribocon GmbH\n",
      "    </title>\n",
      "    <meta name=\"keyword\n"
     ]
    }
   ],
   "source": [
    "response = requests.get(url)\n",
    "html = response.text\n",
    "print(html[:300])"
   ]
  },
  {
   "cell_type": "code",
   "execution_count": 7,
   "id": "e1cf6849-857e-4598-946a-b66089b0edc9",
   "metadata": {},
   "outputs": [],
   "source": [
    "from bs4 import BeautifulSoup"
   ]
  },
  {
   "cell_type": "code",
   "execution_count": 8,
   "id": "89a49d96-c6ae-4512-a5b7-53f3b8c1bf24",
   "metadata": {},
   "outputs": [],
   "source": [
    "soup = BeautifulSoup(html)\n",
    "soup;  # now the html is in a searchable \"soup\" object! "
   ]
  },
  {
   "cell_type": "code",
   "execution_count": 9,
   "id": "1972c6d6-c0c5-4f00-9f67-88a237d0fd91",
   "metadata": {},
   "outputs": [
    {
     "data": {
      "text/plain": [
       "[<span class=\"domainlevel\">Domain \"Archaea\"</span>,\n",
       " <span class=\"phylumlevel\">Phylum \"Crenarchaeota\"</span>,\n",
       " <span class=\"classlevel\">Class Thermoprotei</span>,\n",
       " <span class=\"orderlevel\">Order Acidilobales</span>,\n",
       " <span class=\"familylevel\">Family Acidilobaceae</span>,\n",
       " <span class=\"genuslevel\">Acidilobus</span>,\n",
       " <span class=\"familylevel\">Family Caldisphaeraceae</span>,\n",
       " <span class=\"genuslevel\">Caldisphaera</span>,\n",
       " <span class=\"orderlevel\">Order Cenarchaeales</span>,\n",
       " <span class=\"familylevel\">Family \"Cenarchaeaceae\"</span>]"
      ]
     },
     "execution_count": 9,
     "metadata": {},
     "output_type": "execute_result"
    }
   ],
   "source": [
    "spans = soup.find_all('span')  # These are the entries!\n",
    "spans[:10]"
   ]
  },
  {
   "cell_type": "code",
   "execution_count": 10,
   "id": "7382c745-ccd4-413a-9381-0772102016f0",
   "metadata": {},
   "outputs": [
    {
     "data": {
      "text/plain": [
       "[('domainlevel', 'Domain \"Archaea\"'),\n",
       " ('phylumlevel', 'Phylum \"Crenarchaeota\"'),\n",
       " ('classlevel', 'Class Thermoprotei'),\n",
       " ('orderlevel', 'Order Acidilobales'),\n",
       " ('familylevel', 'Family Acidilobaceae'),\n",
       " ('genuslevel', 'Acidilobus'),\n",
       " ('familylevel', 'Family Caldisphaeraceae'),\n",
       " ('genuslevel', 'Caldisphaera'),\n",
       " ('orderlevel', 'Order Cenarchaeales'),\n",
       " ('familylevel', 'Family \"Cenarchaeaceae\"'),\n",
       " ('genuslevel', '\"Cenarchaeum\"'),\n",
       " ('orderlevel', 'Order Desulfurococcales'),\n",
       " ('familylevel', 'Family Desulfurococcaceae'),\n",
       " ('genuslevel', 'Aeropyrum'),\n",
       " ('genuslevel', 'Desulfurococcus')]"
      ]
     },
     "execution_count": 10,
     "metadata": {},
     "output_type": "execute_result"
    }
   ],
   "source": [
    "span_entries = []\n",
    "for span in spans:\n",
    "    # Reject spans that say \"unassigned\"\n",
    "    if 'unassigned' in span.text:\n",
    "        continue  \n",
    "        \n",
    "    # get the level and name from the class and text\n",
    "    level = span['class'][0]\n",
    "    name = span.text \n",
    "    span_entries.append((level, name))\n",
    "\n",
    "span_entries[:15]"
   ]
  },
  {
   "cell_type": "code",
   "execution_count": 11,
   "id": "fbf6cc0a-91c0-403e-8b50-d0d59bbf48da",
   "metadata": {},
   "outputs": [
    {
     "data": {
      "text/plain": [
       "[('domain', 'Archaea'),\n",
       " ('phylum', 'Crenarchaeota'),\n",
       " ('class', 'Thermoprotei'),\n",
       " ('order', 'Acidilobales'),\n",
       " ('family', 'Acidilobaceae'),\n",
       " ('genus', 'Acidilobus'),\n",
       " ('family', 'Caldisphaeraceae'),\n",
       " ('genus', 'Caldisphaera'),\n",
       " ('order', 'Cenarchaeales'),\n",
       " ('family', 'Cenarchaeaceae'),\n",
       " ('genus', 'Cenarchaeum'),\n",
       " ('order', 'Desulfurococcales'),\n",
       " ('family', 'Desulfurococcaceae'),\n",
       " ('genus', 'Aeropyrum'),\n",
       " ('genus', 'Desulfurococcus')]"
      ]
     },
     "execution_count": 11,
     "metadata": {},
     "output_type": "execute_result"
    }
   ],
   "source": [
    "clean_entries = []\n",
    "for level, name in span_entries:\n",
    "    level_clean = level[:-5]  # take everything except the last 5 letters (\"level\")\n",
    "    name_clean = name.split(\" \")[-1]  # take only the last word\n",
    "    name_clean = name_clean.replace('\"', '')  # Remove quotation marks\n",
    "    clean_entries.append((level_clean, name_clean))\n",
    "    \n",
    "clean_entries[:15]"
   ]
  },
  {
   "cell_type": "code",
   "execution_count": 12,
   "id": "d94d13bc-5654-42a9-b5b9-e07031a99de9",
   "metadata": {},
   "outputs": [
    {
     "name": "stdout",
     "output_type": "stream",
     "text": [
      "{'domain': 'Archaea', 'phylum': 'Crenarchaeota', 'class': 'Thermoprotei', 'subclass': '', 'order': 'Acidilobales', 'suborder': '', 'family': 'Acidilobaceae', 'genus': 'Acidilobus'}\n",
      "{'domain': 'Archaea', 'phylum': 'Crenarchaeota', 'class': 'Thermoprotei', 'subclass': '', 'order': 'Acidilobales', 'suborder': '', 'family': 'Caldisphaeraceae', 'genus': 'Caldisphaera'}\n",
      "{'domain': 'Archaea', 'phylum': 'Crenarchaeota', 'class': 'Thermoprotei', 'subclass': '', 'order': 'Cenarchaeales', 'suborder': '', 'family': 'Cenarchaeaceae', 'genus': 'Cenarchaeum'}\n",
      "{'domain': 'Archaea', 'phylum': 'Crenarchaeota', 'class': 'Thermoprotei', 'subclass': '', 'order': 'Desulfurococcales', 'suborder': '', 'family': 'Desulfurococcaceae', 'genus': 'Aeropyrum'}\n",
      "{'domain': 'Archaea', 'phylum': 'Crenarchaeota', 'class': 'Thermoprotei', 'subclass': '', 'order': 'Desulfurococcales', 'suborder': '', 'family': 'Desulfurococcaceae', 'genus': 'Desulfurococcus'}\n",
      "{'domain': 'Archaea', 'phylum': 'Crenarchaeota', 'class': 'Thermoprotei', 'subclass': '', 'order': 'Desulfurococcales', 'suborder': '', 'family': 'Desulfurococcaceae', 'genus': 'Ignicoccus'}\n",
      "{'domain': 'Archaea', 'phylum': 'Crenarchaeota', 'class': 'Thermoprotei', 'subclass': '', 'order': 'Desulfurococcales', 'suborder': '', 'family': 'Desulfurococcaceae', 'genus': 'Ignisphaera'}\n",
      "{'domain': 'Archaea', 'phylum': 'Crenarchaeota', 'class': 'Thermoprotei', 'subclass': '', 'order': 'Desulfurococcales', 'suborder': '', 'family': 'Desulfurococcaceae', 'genus': 'Staphylothermus'}\n",
      "{'domain': 'Archaea', 'phylum': 'Crenarchaeota', 'class': 'Thermoprotei', 'subclass': '', 'order': 'Desulfurococcales', 'suborder': '', 'family': 'Desulfurococcaceae', 'genus': 'Stetteria'}\n",
      "{'domain': 'Archaea', 'phylum': 'Crenarchaeota', 'class': 'Thermoprotei', 'subclass': '', 'order': 'Desulfurococcales', 'suborder': '', 'family': 'Desulfurococcaceae', 'genus': 'Sulfophobococcus'}\n",
      "{'domain': 'Archaea', 'phylum': 'Crenarchaeota', 'class': 'Thermoprotei', 'subclass': '', 'order': 'Desulfurococcales', 'suborder': '', 'family': 'Desulfurococcaceae', 'genus': 'Thermodiscus'}\n",
      "{'domain': 'Archaea', 'phylum': 'Crenarchaeota', 'class': 'Thermoprotei', 'subclass': '', 'order': 'Desulfurococcales', 'suborder': '', 'family': 'Desulfurococcaceae', 'genus': 'Thermogladius'}\n",
      "{'domain': 'Archaea', 'phylum': 'Crenarchaeota', 'class': 'Thermoprotei', 'subclass': '', 'order': 'Desulfurococcales', 'suborder': '', 'family': 'Desulfurococcaceae', 'genus': 'Thermosphaera'}\n",
      "{'domain': 'Archaea', 'phylum': 'Crenarchaeota', 'class': 'Thermoprotei', 'subclass': '', 'order': 'Desulfurococcales', 'suborder': '', 'family': 'Pyrodictiaceae', 'genus': 'Hyperthermus'}\n",
      "{'domain': 'Archaea', 'phylum': 'Crenarchaeota', 'class': 'Thermoprotei', 'subclass': '', 'order': 'Desulfurococcales', 'suborder': '', 'family': 'Pyrodictiaceae', 'genus': 'Pyrodictium'}\n"
     ]
    }
   ],
   "source": [
    "levels = ['domain', 'phylum', 'class', 'subclass', 'order', 'suborder', 'family', 'genus']\n",
    "\n",
    "entries = []  # the final list of entries\n",
    "entry = {}   # the current dictionary being worked on and modified in the loop\n",
    "for level, name in clean_entries:\n",
    "\n",
    "    # Set all the properties lower than the current level to blank text\n",
    "    for lev in levels[levels.index(level):]:\n",
    "        entry[lev] = ''\n",
    "        \n",
    "    # Add current info to entry\n",
    "    entry[level] = name\n",
    "    \n",
    "    # If it's a genus, record the full entry in list of entries\n",
    "    if level == 'genus':  # only record genuses\n",
    "        entries.append(entry.copy())\n",
    "    \n",
    "\n",
    "for e in entries[:15]:    \n",
    "    print(e)"
   ]
  },
  {
   "cell_type": "code",
   "execution_count": 13,
   "id": "fd9defc4-61eb-4a52-92d7-122933c0a046",
   "metadata": {},
   "outputs": [
    {
     "data": {
      "text/html": [
       "<div>\n",
       "<style scoped>\n",
       "    .dataframe tbody tr th:only-of-type {\n",
       "        vertical-align: middle;\n",
       "    }\n",
       "\n",
       "    .dataframe tbody tr th {\n",
       "        vertical-align: top;\n",
       "    }\n",
       "\n",
       "    .dataframe thead th {\n",
       "        text-align: right;\n",
       "    }\n",
       "</style>\n",
       "<table border=\"1\" class=\"dataframe\">\n",
       "  <thead>\n",
       "    <tr style=\"text-align: right;\">\n",
       "      <th></th>\n",
       "      <th>domain</th>\n",
       "      <th>phylum</th>\n",
       "      <th>class</th>\n",
       "      <th>subclass</th>\n",
       "      <th>order</th>\n",
       "      <th>suborder</th>\n",
       "      <th>family</th>\n",
       "      <th>genus</th>\n",
       "    </tr>\n",
       "  </thead>\n",
       "  <tbody>\n",
       "    <tr>\n",
       "      <th>0</th>\n",
       "      <td>Archaea</td>\n",
       "      <td>Crenarchaeota</td>\n",
       "      <td>Thermoprotei</td>\n",
       "      <td></td>\n",
       "      <td>Acidilobales</td>\n",
       "      <td></td>\n",
       "      <td>Acidilobaceae</td>\n",
       "      <td>Acidilobus</td>\n",
       "    </tr>\n",
       "    <tr>\n",
       "      <th>1</th>\n",
       "      <td>Archaea</td>\n",
       "      <td>Crenarchaeota</td>\n",
       "      <td>Thermoprotei</td>\n",
       "      <td></td>\n",
       "      <td>Acidilobales</td>\n",
       "      <td></td>\n",
       "      <td>Caldisphaeraceae</td>\n",
       "      <td>Caldisphaera</td>\n",
       "    </tr>\n",
       "    <tr>\n",
       "      <th>2</th>\n",
       "      <td>Archaea</td>\n",
       "      <td>Crenarchaeota</td>\n",
       "      <td>Thermoprotei</td>\n",
       "      <td></td>\n",
       "      <td>Cenarchaeales</td>\n",
       "      <td></td>\n",
       "      <td>Cenarchaeaceae</td>\n",
       "      <td>Cenarchaeum</td>\n",
       "    </tr>\n",
       "    <tr>\n",
       "      <th>3</th>\n",
       "      <td>Archaea</td>\n",
       "      <td>Crenarchaeota</td>\n",
       "      <td>Thermoprotei</td>\n",
       "      <td></td>\n",
       "      <td>Desulfurococcales</td>\n",
       "      <td></td>\n",
       "      <td>Desulfurococcaceae</td>\n",
       "      <td>Aeropyrum</td>\n",
       "    </tr>\n",
       "    <tr>\n",
       "      <th>4</th>\n",
       "      <td>Archaea</td>\n",
       "      <td>Crenarchaeota</td>\n",
       "      <td>Thermoprotei</td>\n",
       "      <td></td>\n",
       "      <td>Desulfurococcales</td>\n",
       "      <td></td>\n",
       "      <td>Desulfurococcaceae</td>\n",
       "      <td>Desulfurococcus</td>\n",
       "    </tr>\n",
       "    <tr>\n",
       "      <th>5</th>\n",
       "      <td>Archaea</td>\n",
       "      <td>Crenarchaeota</td>\n",
       "      <td>Thermoprotei</td>\n",
       "      <td></td>\n",
       "      <td>Desulfurococcales</td>\n",
       "      <td></td>\n",
       "      <td>Desulfurococcaceae</td>\n",
       "      <td>Ignicoccus</td>\n",
       "    </tr>\n",
       "    <tr>\n",
       "      <th>6</th>\n",
       "      <td>Archaea</td>\n",
       "      <td>Crenarchaeota</td>\n",
       "      <td>Thermoprotei</td>\n",
       "      <td></td>\n",
       "      <td>Desulfurococcales</td>\n",
       "      <td></td>\n",
       "      <td>Desulfurococcaceae</td>\n",
       "      <td>Ignisphaera</td>\n",
       "    </tr>\n",
       "    <tr>\n",
       "      <th>7</th>\n",
       "      <td>Archaea</td>\n",
       "      <td>Crenarchaeota</td>\n",
       "      <td>Thermoprotei</td>\n",
       "      <td></td>\n",
       "      <td>Desulfurococcales</td>\n",
       "      <td></td>\n",
       "      <td>Desulfurococcaceae</td>\n",
       "      <td>Staphylothermus</td>\n",
       "    </tr>\n",
       "    <tr>\n",
       "      <th>8</th>\n",
       "      <td>Archaea</td>\n",
       "      <td>Crenarchaeota</td>\n",
       "      <td>Thermoprotei</td>\n",
       "      <td></td>\n",
       "      <td>Desulfurococcales</td>\n",
       "      <td></td>\n",
       "      <td>Desulfurococcaceae</td>\n",
       "      <td>Stetteria</td>\n",
       "    </tr>\n",
       "    <tr>\n",
       "      <th>9</th>\n",
       "      <td>Archaea</td>\n",
       "      <td>Crenarchaeota</td>\n",
       "      <td>Thermoprotei</td>\n",
       "      <td></td>\n",
       "      <td>Desulfurococcales</td>\n",
       "      <td></td>\n",
       "      <td>Desulfurococcaceae</td>\n",
       "      <td>Sulfophobococcus</td>\n",
       "    </tr>\n",
       "    <tr>\n",
       "      <th>10</th>\n",
       "      <td>Archaea</td>\n",
       "      <td>Crenarchaeota</td>\n",
       "      <td>Thermoprotei</td>\n",
       "      <td></td>\n",
       "      <td>Desulfurococcales</td>\n",
       "      <td></td>\n",
       "      <td>Desulfurococcaceae</td>\n",
       "      <td>Thermodiscus</td>\n",
       "    </tr>\n",
       "    <tr>\n",
       "      <th>11</th>\n",
       "      <td>Archaea</td>\n",
       "      <td>Crenarchaeota</td>\n",
       "      <td>Thermoprotei</td>\n",
       "      <td></td>\n",
       "      <td>Desulfurococcales</td>\n",
       "      <td></td>\n",
       "      <td>Desulfurococcaceae</td>\n",
       "      <td>Thermogladius</td>\n",
       "    </tr>\n",
       "    <tr>\n",
       "      <th>12</th>\n",
       "      <td>Archaea</td>\n",
       "      <td>Crenarchaeota</td>\n",
       "      <td>Thermoprotei</td>\n",
       "      <td></td>\n",
       "      <td>Desulfurococcales</td>\n",
       "      <td></td>\n",
       "      <td>Desulfurococcaceae</td>\n",
       "      <td>Thermosphaera</td>\n",
       "    </tr>\n",
       "    <tr>\n",
       "      <th>13</th>\n",
       "      <td>Archaea</td>\n",
       "      <td>Crenarchaeota</td>\n",
       "      <td>Thermoprotei</td>\n",
       "      <td></td>\n",
       "      <td>Desulfurococcales</td>\n",
       "      <td></td>\n",
       "      <td>Pyrodictiaceae</td>\n",
       "      <td>Hyperthermus</td>\n",
       "    </tr>\n",
       "    <tr>\n",
       "      <th>14</th>\n",
       "      <td>Archaea</td>\n",
       "      <td>Crenarchaeota</td>\n",
       "      <td>Thermoprotei</td>\n",
       "      <td></td>\n",
       "      <td>Desulfurococcales</td>\n",
       "      <td></td>\n",
       "      <td>Pyrodictiaceae</td>\n",
       "      <td>Pyrodictium</td>\n",
       "    </tr>\n",
       "  </tbody>\n",
       "</table>\n",
       "</div>"
      ],
      "text/plain": [
       "     domain         phylum         class subclass              order suborder  \\\n",
       "0   Archaea  Crenarchaeota  Thermoprotei                Acidilobales            \n",
       "1   Archaea  Crenarchaeota  Thermoprotei                Acidilobales            \n",
       "2   Archaea  Crenarchaeota  Thermoprotei               Cenarchaeales            \n",
       "3   Archaea  Crenarchaeota  Thermoprotei           Desulfurococcales            \n",
       "4   Archaea  Crenarchaeota  Thermoprotei           Desulfurococcales            \n",
       "5   Archaea  Crenarchaeota  Thermoprotei           Desulfurococcales            \n",
       "6   Archaea  Crenarchaeota  Thermoprotei           Desulfurococcales            \n",
       "7   Archaea  Crenarchaeota  Thermoprotei           Desulfurococcales            \n",
       "8   Archaea  Crenarchaeota  Thermoprotei           Desulfurococcales            \n",
       "9   Archaea  Crenarchaeota  Thermoprotei           Desulfurococcales            \n",
       "10  Archaea  Crenarchaeota  Thermoprotei           Desulfurococcales            \n",
       "11  Archaea  Crenarchaeota  Thermoprotei           Desulfurococcales            \n",
       "12  Archaea  Crenarchaeota  Thermoprotei           Desulfurococcales            \n",
       "13  Archaea  Crenarchaeota  Thermoprotei           Desulfurococcales            \n",
       "14  Archaea  Crenarchaeota  Thermoprotei           Desulfurococcales            \n",
       "\n",
       "                family             genus  \n",
       "0        Acidilobaceae        Acidilobus  \n",
       "1     Caldisphaeraceae      Caldisphaera  \n",
       "2       Cenarchaeaceae       Cenarchaeum  \n",
       "3   Desulfurococcaceae         Aeropyrum  \n",
       "4   Desulfurococcaceae   Desulfurococcus  \n",
       "5   Desulfurococcaceae        Ignicoccus  \n",
       "6   Desulfurococcaceae       Ignisphaera  \n",
       "7   Desulfurococcaceae   Staphylothermus  \n",
       "8   Desulfurococcaceae         Stetteria  \n",
       "9   Desulfurococcaceae  Sulfophobococcus  \n",
       "10  Desulfurococcaceae      Thermodiscus  \n",
       "11  Desulfurococcaceae     Thermogladius  \n",
       "12  Desulfurococcaceae     Thermosphaera  \n",
       "13      Pyrodictiaceae      Hyperthermus  \n",
       "14      Pyrodictiaceae       Pyrodictium  "
      ]
     },
     "execution_count": 13,
     "metadata": {},
     "output_type": "execute_result"
    }
   ],
   "source": [
    "df = pd.DataFrame(entries)\n",
    "df[:15]"
   ]
  },
  {
   "cell_type": "code",
   "execution_count": 18,
   "id": "c6870c2d-1146-4002-86a9-46291120578a",
   "metadata": {},
   "outputs": [],
   "source": [
    "df.to_excel('Full_ Taxonomie.xlsx', index=False)\n"
   ]
  }
 ],
 "metadata": {
  "kernelspec": {
   "display_name": "Python 3",
   "language": "python",
   "name": "python3"
  },
  "language_info": {
   "codemirror_mode": {
    "name": "ipython",
    "version": 3
   },
   "file_extension": ".py",
   "mimetype": "text/x-python",
   "name": "python",
   "nbconvert_exporter": "python",
   "pygments_lexer": "ipython3",
   "version": "3.8.8"
  }
 },
 "nbformat": 4,
 "nbformat_minor": 5
}
